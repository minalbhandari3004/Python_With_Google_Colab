{
  "nbformat": 4,
  "nbformat_minor": 0,
  "metadata": {
    "colab": {
      "name": "First Code.ipynb",
      "version": "0.3.2",
      "provenance": [],
      "collapsed_sections": []
    },
    "kernelspec": {
      "name": "python3",
      "display_name": "Python 3"
    }
  },
  "cells": [
    {
      "cell_type": "code",
      "metadata": {
        "id": "HvHHd_7M28OM",
        "colab_type": "code",
        "outputId": "1608be38-80e0-47e2-9ce7-f5ea27cb335d",
        "colab": {
          "base_uri": "https://localhost:8080/",
          "height": 35
        }
      },
      "source": [
        "print(\"Hello World\")"
      ],
      "execution_count": 0,
      "outputs": [
        {
          "output_type": "stream",
          "text": [
            "Hello World\n"
          ],
          "name": "stdout"
        }
      ]
    },
    {
      "cell_type": "code",
      "metadata": {
        "id": "cwcm63Gu6Sp5",
        "colab_type": "code",
        "outputId": "264d8cef-69fd-430b-eaac-ce14e0001bd7",
        "colab": {
          "base_uri": "https://localhost:8080/",
          "height": 191
        }
      },
      "source": [
        "L1 = [2,4,6,8,10]\n",
        "L2 = [1,3,5,7,9]\n",
        "sumL1 = 0\n",
        "for i in L1:\n",
        "  sumL1 = sumL1 + i\n",
        "print(sumL1)\n",
        "for i in L2:\n",
        "  sumL1 = sumL1 + i\n",
        "print(sumL1)\n",
        "print(L1 + L2)\n",
        "print(L1*2)\n",
        "for i in L1:\n",
        "  print(i*2)\n",
        "type(L1)\n",
        "L1.insert(0,1)\n",
        "print(L1)"
      ],
      "execution_count": 0,
      "outputs": [
        {
          "output_type": "stream",
          "text": [
            "30\n",
            "55\n",
            "[2, 4, 6, 8, 10, 1, 3, 5, 7, 9]\n",
            "[2, 4, 6, 8, 10, 2, 4, 6, 8, 10]\n",
            "4\n",
            "8\n",
            "12\n",
            "16\n",
            "20\n",
            "[1, 2, 4, 6, 8, 10]\n"
          ],
          "name": "stdout"
        }
      ]
    },
    {
      "cell_type": "code",
      "metadata": {
        "id": "ZYwk4HhN_rYr",
        "colab_type": "code",
        "outputId": "cd9e74f0-cae7-4b8c-df77-bc443bcdecbc",
        "colab": {
          "base_uri": "https://localhost:8080/",
          "height": 139
        }
      },
      "source": [
        "angle = list (range(0,360,30))\n",
        "print(angle)\n",
        "angle.append(360)\n",
        "print(angle)\n",
        "angle = list (range(0,361,30))\n",
        "print(angle)\n",
        "print(angle.index(90) , \",\" , angle.index(270))\n",
        "i1=angle.index(90)\n",
        "i2=angle.index(270)\n",
        "l1_rev = len(angle) - i1\n",
        "l2_rev= len(angle) - i2\n",
        "print(l1_rev, \" , \" , l2_rev)\n",
        "subangle = angle[::-1]\n",
        "print(subangle[3:10])\n",
        "\n",
        "angle_1 = list (range(0,361,30))\n",
        "subangle_1 = angle_1[angle_1.index(270):angle_1.index(90)-1:-1]\n",
        "print(subangle_1)      "
      ],
      "execution_count": 0,
      "outputs": [
        {
          "output_type": "stream",
          "text": [
            "[0, 30, 60, 90, 120, 150, 180, 210, 240, 270, 300, 330]\n",
            "[0, 30, 60, 90, 120, 150, 180, 210, 240, 270, 300, 330, 360]\n",
            "[0, 30, 60, 90, 120, 150, 180, 210, 240, 270, 300, 330, 360]\n",
            "3 , 9\n",
            "10  ,  4\n",
            "[270, 240, 210, 180, 150, 120, 90]\n",
            "[270, 240, 210, 180, 150, 120, 90]\n"
          ],
          "name": "stdout"
        }
      ]
    },
    {
      "cell_type": "code",
      "metadata": {
        "id": "cHIEkkiIeAGX",
        "colab_type": "code",
        "outputId": "b4e01f77-2803-421c-9d98-aa3df738ff55",
        "colab": {
          "base_uri": "https://localhost:8080/",
          "height": 52
        }
      },
      "source": [
        "L1 = [1,2,3,4,5]\n",
        "L2=L1\n",
        "L2.remove(3)\n",
        "print(L1)\n",
        "\n",
        "L3=[1,2,3,4,5]\n",
        "L4=L3.copy()\n",
        "L4.remove(3)\n",
        "print(L3)\n",
        "\n",
        "#del(L2[3])\n",
        "#L3=L1[:]"
      ],
      "execution_count": 0,
      "outputs": [
        {
          "output_type": "stream",
          "text": [
            "[1, 2, 4, 5]\n",
            "[1, 2, 3, 4, 5]\n"
          ],
          "name": "stdout"
        }
      ]
    },
    {
      "cell_type": "code",
      "metadata": {
        "id": "kiufRvLjTnpj",
        "colab_type": "code",
        "outputId": "e8bc8647-5c74-4f49-841c-9962e64d74f9",
        "colab": {
          "base_uri": "https://localhost:8080/",
          "height": 52
        }
      },
      "source": [
        "print(\"Hello World \"*5)\n",
        "\n",
        "def printHello(val):\n",
        "   if a>=2:\n",
        "      print(\"Hello\")\n",
        "      \n",
        "printHello(5)"
      ],
      "execution_count": 0,
      "outputs": [
        {
          "output_type": "stream",
          "text": [
            "Hello World Hello World Hello World Hello World Hello World \n",
            "Hello\n"
          ],
          "name": "stdout"
        }
      ]
    },
    {
      "cell_type": "code",
      "metadata": {
        "id": "Sl3oj0m5nbV9",
        "colab_type": "code",
        "colab": {}
      },
      "source": [
        "import numpy as np\n",
        "import tensorflow as tf"
      ],
      "execution_count": 0,
      "outputs": []
    },
    {
      "cell_type": "code",
      "metadata": {
        "id": "vq0s9q3nolqe",
        "colab_type": "code",
        "outputId": "faeeb7c2-8bec-4aff-bce7-0e0adef4a47f",
        "colab": {
          "base_uri": "https://localhost:8080/",
          "height": 69
        }
      },
      "source": [
        "t1 = (1,2,3,4)\n",
        "print(type(t1))\n",
        "t2=(5,6,7,8)\n",
        "t1+t2\n",
        "t1 += t2\n",
        "t1 = t1 + (9,10,)\n",
        "print(t1)\n",
        "t1 = t1[:2] + (15, 20, 25) + t1[2:]\n",
        "print(t1)\n",
        "l1 = list(t1) "
      ],
      "execution_count": 0,
      "outputs": [
        {
          "output_type": "stream",
          "text": [
            "<class 'tuple'>\n",
            "(1, 2, 3, 4, 5, 6, 7, 8, 9, 10)\n",
            "(1, 2, 15, 20, 25, 3, 4, 5, 6, 7, 8, 9, 10)\n"
          ],
          "name": "stdout"
        }
      ]
    },
    {
      "cell_type": "code",
      "metadata": {
        "id": "B9BxWsSNyGGG",
        "colab_type": "code",
        "outputId": "bc270c3b-61db-41aa-9cbc-87c1155fa620",
        "colab": {
          "base_uri": "https://localhost:8080/",
          "height": 52
        }
      },
      "source": [
        "d={\"Assam\":[23,\"as\",34],\"Delhi\":[34,\"de\",35],\"Goa\":[24,\"go\",90]}\n",
        "d1=d[\"Goa\"]\n",
        "print(d1)\n",
        "d[\"Delhi\"]=[36,\"de\",45]\n",
        "d[\"Gujarat\"]=[49,\"Gu\",89]\n",
        "print(d)"
      ],
      "execution_count": 0,
      "outputs": [
        {
          "output_type": "stream",
          "text": [
            "[24, 'go', 90]\n",
            "{'Assam': [23, 'as', 34], 'Delhi': [36, 'de', 45], 'Goa': [24, 'go', 90], 'Gujarat': [49, 'Gu', 89]}\n"
          ],
          "name": "stdout"
        }
      ]
    },
    {
      "cell_type": "code",
      "metadata": {
        "id": "VEvXegze-uPE",
        "colab_type": "code",
        "outputId": "81ada7d6-f5d2-4e4e-eff4-206d42f44c88",
        "colab": {
          "base_uri": "https://localhost:8080/",
          "height": 52
        }
      },
      "source": [
        "def deg_rad(angle):\n",
        "  \n",
        "  return angle * (22/7) * 180\n",
        "\n",
        "print(deg_rad(360))\n",
        "  \n",
        "L1=[30,60,120,180,270,360]\n",
        "\n",
        "new_L1= lambda angle,rotate: angle / 360 * 22/7 + rotate\n",
        "\n",
        "print(new_L1(30,deg_rad(90)))\n"
      ],
      "execution_count": 0,
      "outputs": [
        {
          "output_type": "stream",
          "text": [
            "203657.14285714284\n",
            "50914.54761904762\n"
          ],
          "name": "stdout"
        }
      ]
    },
    {
      "cell_type": "code",
      "metadata": {
        "id": "uLboLNYohHwb",
        "colab_type": "code",
        "outputId": "dd300ff8-de70-441d-c596-f20016140110",
        "colab": {
          "base_uri": "https://localhost:8080/",
          "height": 52
        }
      },
      "source": [
        "rad_angles=[30,60,90]\n",
        "for a in rad_angles:\n",
        "  a = a * 22/7 / 180\n",
        "print(rad_angles)\n",
        "  \n",
        "rad_angles1=[30,60,90]\n",
        "i=0\n",
        "for a1 in rad_angles1:\n",
        "  a1 = a1 * 22/7 / 180\n",
        "  rad_angles1[i] = a1\n",
        "  i = i+1\n",
        "print(rad_angles1)"
      ],
      "execution_count": 0,
      "outputs": [
        {
          "output_type": "stream",
          "text": [
            "[30, 60, 90]\n",
            "[0.5238095238095238, 1.0476190476190477, 1.5714285714285714]\n"
          ],
          "name": "stdout"
        }
      ]
    },
    {
      "cell_type": "code",
      "metadata": {
        "id": "QowUZlLwidJd",
        "colab_type": "code",
        "outputId": "db90a102-409a-4a8d-dcbf-714dcfe07c91",
        "colab": {
          "base_uri": "https://localhost:8080/",
          "height": 35
        }
      },
      "source": [
        "def word_search(doc_list,keyword):\n",
        "  \n",
        "  #index array will store the indexes at which the keyword is found\n",
        "  index=[]\n",
        "  \n",
        "  \n",
        "  for i,doc in enumerate(doc_list):\n",
        "    words = doc.split()\n",
        "    x = [word.rstrip(',.').lower() for word in words]\n",
        "    if keyword.lower() in x:\n",
        "      index.append(i)\n",
        "  return(index)  \n",
        "\n",
        "def multi_word_search(documents, keywords):\n",
        "    keyword_to_indices = {}\n",
        "    for key in keywords:\n",
        "        keyword_to_indices[key] = word_search(documents, key)\n",
        "    return keyword_to_indices\n",
        "\n",
        "#in the list of documents, return the indexes at which the keywords are found\n",
        "documents = [\"The Learn Python Challenge Casino.\", \"They bought a car\", \"Casinoville CASINO\"]\n",
        "keywords=[\"casino\",\"they\"]\n",
        "print(multi_word_search(documents,keywords))"
      ],
      "execution_count": 0,
      "outputs": [
        {
          "output_type": "stream",
          "text": [
            "{'casino': [0, 2], 'they': [1]}\n"
          ],
          "name": "stdout"
        }
      ]
    },
    {
      "cell_type": "code",
      "metadata": {
        "id": "PIAQ2hEmozb0",
        "colab_type": "code",
        "outputId": "a99f7c40-7092-4333-c2b5-d046331a977d",
        "colab": {
          "base_uri": "https://localhost:8080/",
          "height": 295
        }
      },
      "source": [
        "import numpy as np\n",
        "\n",
        "a=np.array([1,2,3,4])\n",
        "print(a)\n",
        "\n",
        "b=np.array([[1,2,3,4],[5,6,7,8]],dtype=float)\n",
        "print(b)\n",
        "\n",
        "#zero matrix\n",
        "c=np.zeros([3,4])\n",
        "print(c)\n",
        "\n",
        "#identity matrix which has all diagonals as 1's\n",
        "d=np.eye(4)\n",
        "print(d)\n",
        "\n",
        "a=np.array([[1,2,3,4],[5,6,7,8],[2,4,5,6]],dtype=float)\n",
        "\n",
        "print(a.shape)\n",
        "print(len(a))\n",
        "print(a.ndim)\n",
        "print(a.size)\n",
        "print(a.dtype)\n",
        "a=a.astype(int)\n",
        "print(a.dtype)"
      ],
      "execution_count": 0,
      "outputs": [
        {
          "output_type": "stream",
          "text": [
            "[1 2 3 4]\n",
            "[[1. 2. 3. 4.]\n",
            " [5. 6. 7. 8.]]\n",
            "[[0. 0. 0. 0.]\n",
            " [0. 0. 0. 0.]\n",
            " [0. 0. 0. 0.]]\n",
            "[[1. 0. 0. 0.]\n",
            " [0. 1. 0. 0.]\n",
            " [0. 0. 1. 0.]\n",
            " [0. 0. 0. 1.]]\n",
            "(3, 4)\n",
            "3\n",
            "2\n",
            "12\n",
            "float64\n",
            "int64\n"
          ],
          "name": "stdout"
        }
      ]
    },
    {
      "cell_type": "code",
      "metadata": {
        "id": "AZ8S7biqsqRf",
        "colab_type": "code",
        "outputId": "64436a2f-a7fe-4579-d56a-5ce51f7345e0",
        "colab": {
          "base_uri": "https://localhost:8080/",
          "height": 763
        }
      },
      "source": [
        "#import iris data set \n",
        "#attributes are sepal length, sepal width, petal length and petal width\n",
        "\n",
        "from sklearn import datasets\n",
        "iris = datasets.load_iris()\n",
        "iris_array=iris.data\n",
        "\n",
        "#find the shape and dim of the iris array\n",
        "print(\"Shape of iris array: \", x.shape)\n",
        "print(\"Dimensions of iris array: \", x.ndim)\n",
        "\n",
        "#slice the iris array with onyl petal data(last 2 columns are petal data) and rows from 100 to 140\n",
        "sliced_iris_array = iris_array[100:140,[2, 3]]\n",
        "# or sliced_iris_array = iris_array[100:140,2:]\n",
        "\n",
        "print(\"Shape of sub-array: \", sliced_iris_array.shape)\n",
        "print(sliced_iris_array)\n"
      ],
      "execution_count": 0,
      "outputs": [
        {
          "output_type": "stream",
          "text": [
            "Shape of iris array:  (150, 4)\n",
            "Dimensions of iris array:  2\n",
            "Shape of sub-array:  (40, 2)\n",
            "[[6.  2.5]\n",
            " [5.1 1.9]\n",
            " [5.9 2.1]\n",
            " [5.6 1.8]\n",
            " [5.8 2.2]\n",
            " [6.6 2.1]\n",
            " [4.5 1.7]\n",
            " [6.3 1.8]\n",
            " [5.8 1.8]\n",
            " [6.1 2.5]\n",
            " [5.1 2. ]\n",
            " [5.3 1.9]\n",
            " [5.5 2.1]\n",
            " [5.  2. ]\n",
            " [5.1 2.4]\n",
            " [5.3 2.3]\n",
            " [5.5 1.8]\n",
            " [6.7 2.2]\n",
            " [6.9 2.3]\n",
            " [5.  1.5]\n",
            " [5.7 2.3]\n",
            " [4.9 2. ]\n",
            " [6.7 2. ]\n",
            " [4.9 1.8]\n",
            " [5.7 2.1]\n",
            " [6.  1.8]\n",
            " [4.8 1.8]\n",
            " [4.9 1.8]\n",
            " [5.6 2.1]\n",
            " [5.8 1.6]\n",
            " [6.1 1.9]\n",
            " [6.4 2. ]\n",
            " [5.6 2.2]\n",
            " [5.1 1.5]\n",
            " [5.6 1.4]\n",
            " [6.1 2.3]\n",
            " [5.6 2.4]\n",
            " [5.5 1.8]\n",
            " [4.8 1.8]\n",
            " [5.4 2.1]]\n"
          ],
          "name": "stdout"
        }
      ]
    },
    {
      "cell_type": "code",
      "metadata": {
        "id": "nTs6mNSYzzAn",
        "colab_type": "code",
        "outputId": "1ace05a0-a2b7-43f9-d561-d0d803b30de0",
        "colab": {
          "base_uri": "https://localhost:8080/",
          "height": 173
        }
      },
      "source": [
        "import math \n",
        "print(\"pi to 4 significant digits = {:.4}\".format(math.pi))\n",
        "\n",
        "random_list = np.random.randint(low=1, high=6, size = 10)\n",
        "print(random_list)\n",
        "print(random_list.mean())\n",
        "print(random_list.tolist())\n",
        "random_list += 10\n",
        "print(random_list)\n",
        "print(random_list>13)\n",
        "\n",
        "x_list = [[1,2,3],[2,4,6],]\n",
        "\n",
        "# Create a 2-dimensional array\n",
        "x_array = np.asarray(x_list)\n",
        "print(x_array)\n",
        "#print the last element of second row\n",
        "print(x_array[1,-1])"
      ],
      "execution_count": 0,
      "outputs": [
        {
          "output_type": "stream",
          "text": [
            "pi to 4 significant digits = 3.142\n",
            "[2 5 3 4 3 4 4 2 5 3]\n",
            "3.5\n",
            "[2, 5, 3, 4, 3, 4, 4, 2, 5, 3]\n",
            "[12 15 13 14 13 14 14 12 15 13]\n",
            "[False  True False  True False  True  True False  True False]\n",
            "[[1 2 3]\n",
            " [2 4 6]]\n",
            "6\n"
          ],
          "name": "stdout"
        }
      ]
    },
    {
      "cell_type": "code",
      "metadata": {
        "id": "6APTyDTZ2gPs",
        "colab_type": "code",
        "outputId": "8ff8c4ec-5815-4b7b-80c0-237f57ec7827",
        "colab": {
          "resources": {
            "http://localhost:8080/nbextensions/google.colab/files.js": {
              "data": "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",
              "ok": true,
              "headers": [
                [
                  "content-type",
                  "application/javascript"
                ]
              ],
              "status": 200,
              "status_text": ""
            }
          },
          "base_uri": "https://localhost:8080/",
          "height": 75
        }
      },
      "source": [
        "#to upload files from your local machine\n",
        "from google.colab import files\n",
        "uploaded = files.upload()\n",
        "\n"
      ],
      "execution_count": 0,
      "outputs": [
        {
          "output_type": "display_data",
          "data": {
            "text/html": [
              "\n",
              "     <input type=\"file\" id=\"files-627a1e6e-fa05-4727-9857-4ba607f1a3ab\" name=\"files[]\" multiple disabled />\n",
              "     <output id=\"result-627a1e6e-fa05-4727-9857-4ba607f1a3ab\">\n",
              "      Upload widget is only available when the cell has been executed in the\n",
              "      current browser session. Please rerun this cell to enable.\n",
              "      </output>\n",
              "      <script src=\"/nbextensions/google.colab/files.js\"></script> "
            ],
            "text/plain": [
              "<IPython.core.display.HTML object>"
            ]
          },
          "metadata": {
            "tags": []
          }
        },
        {
          "output_type": "stream",
          "text": [
            "Saving matches.csv to matches (1).csv\n"
          ],
          "name": "stdout"
        }
      ]
    },
    {
      "cell_type": "code",
      "metadata": {
        "id": "ljl0XUpC4zSy",
        "colab_type": "code",
        "outputId": "b4b34478-d18d-454e-a0f2-2dbddd50b7df",
        "colab": {
          "base_uri": "https://localhost:8080/",
          "height": 659
        }
      },
      "source": [
        "import pandas as pd\n",
        "\n",
        "#to read data file\n",
        "panda_dataset = pd.read_csv(\"matches.csv\")\n",
        "\n",
        "#to find the number of rows and columns\n",
        "print(panda_dataset.shape)\n",
        "\n",
        "#to find the column headings\n",
        "print(panda_dataset.columns)\n",
        "\n",
        "print(list(panda_dataset.index)[:2])\n",
        "\n",
        "# to find the first rows, defualt takes 5\n",
        "print(panda_dataset.head(1))\n",
        "\n",
        "#to find the last rows\n",
        "print(panda_dataset.tail(2))"
      ],
      "execution_count": 0,
      "outputs": [
        {
          "output_type": "stream",
          "text": [
            "(577, 18)\n",
            "Index(['id', 'season', 'city', 'date', 'team1', 'team2', 'toss_winner',\n",
            "       'toss_decision', 'result', 'dl_applied', 'winner', 'win_by_runs',\n",
            "       'win_by_wickets', 'player_of_match', 'venue', 'umpire1', 'umpire2',\n",
            "       'umpire3'],\n",
            "      dtype='object')\n",
            "[0, 1]\n",
            "   id  season       city        date                  team1  \\\n",
            "0   1    2008  Bangalore  2008-04-18  Kolkata Knight Riders   \n",
            "\n",
            "                         team2                  toss_winner toss_decision  \\\n",
            "0  Royal Challengers Bangalore  Royal Challengers Bangalore         field   \n",
            "\n",
            "   result  dl_applied                 winner  win_by_runs  win_by_wickets  \\\n",
            "0  normal           0  Kolkata Knight Riders          140               0   \n",
            "\n",
            "  player_of_match                  venue    umpire1      umpire2  umpire3  \n",
            "0     BB McCullum  M Chinnaswamy Stadium  Asad Rauf  RE Koertzen      NaN  \n",
            "      id  season       city        date                team1  \\\n",
            "575  576    2016      Delhi  2016-05-27        Gujarat Lions   \n",
            "576  577    2016  Bangalore  2016-05-29  Sunrisers Hyderabad   \n",
            "\n",
            "                           team2          toss_winner toss_decision  result  \\\n",
            "575          Sunrisers Hyderabad  Sunrisers Hyderabad         field  normal   \n",
            "576  Royal Challengers Bangalore  Sunrisers Hyderabad           bat  normal   \n",
            "\n",
            "     dl_applied               winner  win_by_runs  win_by_wickets  \\\n",
            "575           0  Sunrisers Hyderabad            0               4   \n",
            "576           0  Sunrisers Hyderabad            8               0   \n",
            "\n",
            "    player_of_match                  venue          umpire1       umpire2  \\\n",
            "575       DA Warner       Feroz Shah Kotla        M Erasmus     CK Nandan   \n",
            "576     BCJ Cutting  M Chinnaswamy Stadium  HDPK Dharmasena  BNJ Oxenford   \n",
            "\n",
            "     umpire3  \n",
            "575      NaN  \n",
            "576      NaN  \n"
          ],
          "name": "stdout"
        }
      ]
    },
    {
      "cell_type": "code",
      "metadata": {
        "id": "DcOyACjx-QPW",
        "colab_type": "code",
        "outputId": "3d0d9530-1145-44ed-e521-992106685b04",
        "colab": {
          "base_uri": "https://localhost:8080/",
          "height": 2340
        }
      },
      "source": [
        "print(\"Value counts\")\n",
        "print(panda_dataset['winner'].value_counts())\n",
        "\n",
        "print(\"Sum of matches with missing winners : \",panda_dataset['winner'].isnull().sum())\n",
        "\n",
        "print(panda_dataset[panda_dataset['city']=='Bangalore']['winner'])\n",
        "\n",
        "print(panda_dataset[panda_dataset['season'].isin([2008,2005])][['season','toss_winner']])\n",
        "\n"
      ],
      "execution_count": 0,
      "outputs": [
        {
          "output_type": "stream",
          "text": [
            "Value counts\n",
            "Mumbai Indians                 80\n",
            "Chennai Super Kings            79\n",
            "Royal Challengers Bangalore    70\n",
            "Kolkata Knight Riders          68\n",
            "Rajasthan Royals               63\n",
            "Kings XI Punjab                63\n",
            "Delhi Daredevils               56\n",
            "Sunrisers Hyderabad            34\n",
            "Deccan Chargers                29\n",
            "Pune Warriors                  12\n",
            "Gujarat Lions                   9\n",
            "Kochi Tuskers Kerala            6\n",
            "Rising Pune Supergiants         5\n",
            "Name: winner, dtype: int64\n",
            "Sum of matches with missing winners :  3\n",
            "0            Kolkata Knight Riders\n",
            "10                Rajasthan Royals\n",
            "14             Chennai Super Kings\n",
            "24                 Kings XI Punjab\n",
            "30                  Mumbai Indians\n",
            "44                Delhi Daredevils\n",
            "51     Royal Challengers Bangalore\n",
            "121    Royal Challengers Bangalore\n",
            "124    Royal Challengers Bangalore\n",
            "132    Royal Challengers Bangalore\n",
            "137               Delhi Daredevils\n",
            "154                Deccan Chargers\n",
            "157    Royal Challengers Bangalore\n",
            "166                 Mumbai Indians\n",
            "182                 Mumbai Indians\n",
            "208    Royal Challengers Bangalore\n",
            "220    Royal Challengers Bangalore\n",
            "223    Royal Challengers Bangalore\n",
            "231    Royal Challengers Bangalore\n",
            "242    Royal Challengers Bangalore\n",
            "252    Royal Challengers Bangalore\n",
            "257          Kolkata Knight Riders\n",
            "266               Rajasthan Royals\n",
            "269    Royal Challengers Bangalore\n",
            "290                Kings XI Punjab\n",
            "296    Royal Challengers Bangalore\n",
            "307                 Mumbai Indians\n",
            "319            Chennai Super Kings\n",
            "323    Royal Challengers Bangalore\n",
            "332    Royal Challengers Bangalore\n",
            "341    Royal Challengers Bangalore\n",
            "347    Royal Challengers Bangalore\n",
            "351    Royal Challengers Bangalore\n",
            "369                Kings XI Punjab\n",
            "372    Royal Challengers Bangalore\n",
            "392    Royal Challengers Bangalore\n",
            "421    Royal Challengers Bangalore\n",
            "428                Kings XI Punjab\n",
            "432               Rajasthan Royals\n",
            "435    Royal Challengers Bangalore\n",
            "450            Chennai Super Kings\n",
            "457          Kolkata Knight Riders\n",
            "465            Sunrisers Hyderabad\n",
            "474                 Mumbai Indians\n",
            "478            Chennai Super Kings\n",
            "486                            NaN\n",
            "490    Royal Challengers Bangalore\n",
            "497    Royal Challengers Bangalore\n",
            "511                            NaN\n",
            "520    Royal Challengers Bangalore\n",
            "527               Delhi Daredevils\n",
            "546          Kolkata Knight Riders\n",
            "551    Royal Challengers Bangalore\n",
            "557                 Mumbai Indians\n",
            "560    Royal Challengers Bangalore\n",
            "566    Royal Challengers Bangalore\n",
            "573    Royal Challengers Bangalore\n",
            "576            Sunrisers Hyderabad\n",
            "Name: winner, dtype: object\n",
            "    season                  toss_winner\n",
            "0     2008  Royal Challengers Bangalore\n",
            "1     2008          Chennai Super Kings\n",
            "2     2008             Rajasthan Royals\n",
            "3     2008               Mumbai Indians\n",
            "4     2008              Deccan Chargers\n",
            "5     2008              Kings XI Punjab\n",
            "6     2008              Deccan Chargers\n",
            "7     2008               Mumbai Indians\n",
            "8     2008             Rajasthan Royals\n",
            "9     2008               Mumbai Indians\n",
            "10    2008             Rajasthan Royals\n",
            "11    2008        Kolkata Knight Riders\n",
            "12    2008              Deccan Chargers\n",
            "13    2008             Delhi Daredevils\n",
            "14    2008          Chennai Super Kings\n",
            "15    2008        Kolkata Knight Riders\n",
            "16    2008  Royal Challengers Bangalore\n",
            "17    2008              Kings XI Punjab\n",
            "18    2008             Rajasthan Royals\n",
            "19    2008          Chennai Super Kings\n",
            "20    2008              Deccan Chargers\n",
            "21    2008              Kings XI Punjab\n",
            "22    2008             Delhi Daredevils\n",
            "23    2008          Chennai Super Kings\n",
            "24    2008              Kings XI Punjab\n",
            "25    2008              Deccan Chargers\n",
            "26    2008               Mumbai Indians\n",
            "27    2008          Chennai Super Kings\n",
            "28    2008        Kolkata Knight Riders\n",
            "29    2008             Rajasthan Royals\n",
            "30    2008               Mumbai Indians\n",
            "31    2008              Kings XI Punjab\n",
            "32    2008        Kolkata Knight Riders\n",
            "33    2008             Rajasthan Royals\n",
            "34    2008  Royal Challengers Bangalore\n",
            "35    2008        Kolkata Knight Riders\n",
            "36    2008               Mumbai Indians\n",
            "37    2008             Rajasthan Royals\n",
            "38    2008              Deccan Chargers\n",
            "39    2008               Mumbai Indians\n",
            "40    2008             Delhi Daredevils\n",
            "41    2008  Royal Challengers Bangalore\n",
            "42    2008              Deccan Chargers\n",
            "43    2008        Kolkata Knight Riders\n",
            "44    2008             Delhi Daredevils\n",
            "45    2008             Rajasthan Royals\n",
            "46    2008               Mumbai Indians\n",
            "47    2008  Royal Challengers Bangalore\n",
            "48    2008              Kings XI Punjab\n",
            "49    2008             Delhi Daredevils\n",
            "50    2008             Rajasthan Royals\n",
            "51    2008              Deccan Chargers\n",
            "52    2008              Kings XI Punjab\n",
            "53    2008             Rajasthan Royals\n",
            "54    2008              Deccan Chargers\n",
            "55    2008             Delhi Daredevils\n",
            "56    2008              Kings XI Punjab\n",
            "57    2008             Rajasthan Royals\n"
          ],
          "name": "stdout"
        }
      ]
    },
    {
      "cell_type": "code",
      "metadata": {
        "id": "7n2vlyfLCMUO",
        "colab_type": "code",
        "outputId": "7fb8bff5-b6ec-4c98-fb11-4eec3bae4c72",
        "colab": {
          "base_uri": "https://localhost:8080/",
          "height": 763
        }
      },
      "source": [
        "#to get the rows between some range\n",
        "print(panda_dataset.iloc[0:1])\n",
        "\n",
        "#to get data of a specific value\n",
        "panda_dataset.reset_index(inplace=True)\n",
        "panda_dataset.set_index('date',inplace=True)\n",
        "print(panda_dataset.loc['2008-04-19'])"
      ],
      "execution_count": 0,
      "outputs": [
        {
          "output_type": "stream",
          "text": [
            "            index  id  season       city                  team1  \\\n",
            "date                                                              \n",
            "2008-04-18      0   1    2008  Bangalore  Kolkata Knight Riders   \n",
            "\n",
            "                                  team2                  toss_winner  \\\n",
            "date                                                                   \n",
            "2008-04-18  Royal Challengers Bangalore  Royal Challengers Bangalore   \n",
            "\n",
            "           toss_decision  result  dl_applied                 winner  \\\n",
            "date                                                                  \n",
            "2008-04-18         field  normal           0  Kolkata Knight Riders   \n",
            "\n",
            "            win_by_runs  win_by_wickets player_of_match  \\\n",
            "date                                                      \n",
            "2008-04-18          140               0     BB McCullum   \n",
            "\n",
            "                            venue    umpire1      umpire2  umpire3  \n",
            "date                                                                \n",
            "2008-04-18  M Chinnaswamy Stadium  Asad Rauf  RE Koertzen      NaN  \n",
            "            index  id  season        city                team1  \\\n",
            "date                                                             \n",
            "2008-04-19      1   2    2008  Chandigarh  Chennai Super Kings   \n",
            "2008-04-19      2   3    2008       Delhi     Rajasthan Royals   \n",
            "\n",
            "                       team2          toss_winner toss_decision  result  \\\n",
            "date                                                                      \n",
            "2008-04-19   Kings XI Punjab  Chennai Super Kings           bat  normal   \n",
            "2008-04-19  Delhi Daredevils     Rajasthan Royals           bat  normal   \n",
            "\n",
            "            dl_applied               winner  win_by_runs  win_by_wickets  \\\n",
            "date                                                                       \n",
            "2008-04-19           0  Chennai Super Kings           33               0   \n",
            "2008-04-19           0     Delhi Daredevils            0               9   \n",
            "\n",
            "           player_of_match                                       venue  \\\n",
            "date                                                                     \n",
            "2008-04-19      MEK Hussey  Punjab Cricket Association Stadium, Mohali   \n",
            "2008-04-19     MF Maharoof                            Feroz Shah Kotla   \n",
            "\n",
            "              umpire1         umpire2  umpire3  \n",
            "date                                            \n",
            "2008-04-19  MR Benson      SL Shastri      NaN  \n",
            "2008-04-19  Aleem Dar  GA Pratapkumar      NaN  \n"
          ],
          "name": "stdout"
        }
      ]
    },
    {
      "cell_type": "code",
      "metadata": {
        "id": "6K-XviSTEu_H",
        "colab_type": "code",
        "outputId": "209eafae-45c0-45d1-faf8-68e3401f0425",
        "colab": {
          "base_uri": "https://localhost:8080/",
          "height": 676
        }
      },
      "source": [
        "print(panda_dataset.isnull().sum())\n",
        "#bfill : backwardfill replaces null value by previous value\n",
        "#ffill : forwardfill replaces null value by next value\n",
        "#mean, median and mode can also be filled\n",
        "panda_dataset['player_of_match'].fillna('bfill',inplace=True)\n",
        "print(panda_dataset.isnull().sum())\n"
      ],
      "execution_count": 0,
      "outputs": [
        {
          "output_type": "stream",
          "text": [
            "index                0\n",
            "id                   0\n",
            "season               0\n",
            "city                 0\n",
            "team1                0\n",
            "team2                0\n",
            "toss_winner          0\n",
            "toss_decision        0\n",
            "result               0\n",
            "dl_applied           0\n",
            "winner               0\n",
            "win_by_runs          0\n",
            "win_by_wickets       0\n",
            "player_of_match      3\n",
            "venue                0\n",
            "umpire1              0\n",
            "umpire2              0\n",
            "umpire3            577\n",
            "dtype: int64\n",
            "index                0\n",
            "id                   0\n",
            "season               0\n",
            "city                 0\n",
            "team1                0\n",
            "team2                0\n",
            "toss_winner          0\n",
            "toss_decision        0\n",
            "result               0\n",
            "dl_applied           0\n",
            "winner               0\n",
            "win_by_runs          0\n",
            "win_by_wickets       0\n",
            "player_of_match      0\n",
            "venue                0\n",
            "umpire1              0\n",
            "umpire2              0\n",
            "umpire3            577\n",
            "dtype: int64\n"
          ],
          "name": "stdout"
        }
      ]
    },
    {
      "cell_type": "code",
      "metadata": {
        "id": "pKPrghxOGlLz",
        "colab_type": "code",
        "colab": {}
      },
      "source": [
        "#to read data file\n",
        "new_panda_dataset = pd.read_csv(\"matches.csv\")\n"
      ],
      "execution_count": 0,
      "outputs": []
    },
    {
      "cell_type": "code",
      "metadata": {
        "id": "hW5TzdN5WNLi",
        "colab_type": "code",
        "outputId": "0621a1ce-edcb-4ec6-8b9b-85f92757edaa",
        "colab": {
          "base_uri": "https://localhost:8080/",
          "height": 607
        }
      },
      "source": [
        "#to create a dataset\n",
        "metal_dataset = pd.DataFrame({'Metal':['steel','copper','wood'],'YM':['200','100','50'],'Ductile':['True','True','False']},index=['m1','m2','m3'])\n",
        "print(metal_dataset)\n",
        "\n",
        "#to add one more row with index m4\n",
        "metal_dataset.ix['m4']={'Metal':'cement','YM':'0.1','Ductile':'False'}\n",
        "print(\"\\nAdded one row: \\n\\n\" , metal_dataset)\n",
        "\n",
        "#to  delete the row with index m4\n",
        "metal_dataset = metal_dataset.drop(['m4'])\n",
        "print(\"\\nDeleted one row: \\n\\n\" , metal_dataset)\n",
        "\n",
        "#axis= 0 for rows and axis=1 for columns\n",
        "#metal_dataset = metal_dataset.drop(['m4'],axis=0)\n",
        "\n",
        "#to delete the column with heading ductile\n",
        "metal_dataset1 = metal_dataset.drop(['Ductile'],axis=1)\n",
        "print(\"\\nDeleted one row: \\n\\n\" , metal_dataset1)"
      ],
      "execution_count": 0,
      "outputs": [
        {
          "output_type": "stream",
          "text": [
            "     Metal   YM Ductile\n",
            "m1   steel  200    True\n",
            "m2  copper  100    True\n",
            "m3    wood   50   False\n",
            "\n",
            "Added one row: \n",
            "\n",
            "      Metal   YM Ductile\n",
            "m1   steel  200    True\n",
            "m2  copper  100    True\n",
            "m3    wood   50   False\n",
            "m4  cement  0.1   False\n",
            "\n",
            "Deleted one row: \n",
            "\n",
            "      Metal   YM Ductile\n",
            "m1   steel  200    True\n",
            "m2  copper  100    True\n",
            "m3    wood   50   False\n",
            "\n",
            "Deleted one row: \n",
            "\n",
            "      Metal   YM\n",
            "m1   steel  200\n",
            "m2  copper  100\n",
            "m3    wood   50\n"
          ],
          "name": "stdout"
        },
        {
          "output_type": "stream",
          "text": [
            "/usr/local/lib/python3.6/dist-packages/ipykernel_launcher.py:5: DeprecationWarning: \n",
            ".ix is deprecated. Please use\n",
            ".loc for label based indexing or\n",
            ".iloc for positional indexing\n",
            "\n",
            "See the documentation here:\n",
            "http://pandas.pydata.org/pandas-docs/stable/indexing.html#ix-indexer-is-deprecated\n",
            "  \"\"\"\n"
          ],
          "name": "stderr"
        }
      ]
    },
    {
      "cell_type": "code",
      "metadata": {
        "id": "l3Rpau2ujQ7O",
        "colab_type": "code",
        "outputId": "71d15bf8-549c-43db-89f4-b2124d444938",
        "colab": {
          "base_uri": "https://localhost:8080/",
          "height": 295
        }
      },
      "source": [
        "metal_1 = pd.DataFrame({'Metal':['steel','copper','wood'],'YM':['200','100','50'],'Ductile':['True','True','False']},index=['m1','m2','m3'])\n",
        "metal_2 = pd.DataFrame({'Metal':['steel','copper','wood'],'YM':['200','100','50'],'UTS':['20','10','5']},index=['me1','me2','me3'])\n",
        "\n",
        "#to concatenate two datasets\n",
        "print(\"Concatenated 2 datasets: \\n\\n\",pd.concat([metal_1,metal_2],sort=False))\n",
        "\n",
        "#to do outer merge\n",
        "print(\"\\nOuter merge of 2 datasets: \\n\\n\", pd.merge(metal_1,metal_2,on='Metal',how='outer'))\n"
      ],
      "execution_count": 0,
      "outputs": [
        {
          "output_type": "stream",
          "text": [
            "Concatenated 2 datasets: \n",
            "\n",
            "       Metal   YM Ductile  UTS\n",
            "m1    steel  200    True  NaN\n",
            "m2   copper  100    True  NaN\n",
            "m3     wood   50   False  NaN\n",
            "me1   steel  200     NaN   20\n",
            "me2  copper  100     NaN   10\n",
            "me3    wood   50     NaN    5\n",
            "\n",
            "Outer merge of 2 datasets: \n",
            "\n",
            "     Metal YM_x Ductile YM_y UTS\n",
            "0   steel  200    True  200  20\n",
            "1  copper  100    True  100  10\n",
            "2    wood   50   False   50   5\n"
          ],
          "name": "stdout"
        }
      ]
    },
    {
      "cell_type": "code",
      "metadata": {
        "id": "z0KCH2TpmT4o",
        "colab_type": "code",
        "outputId": "ed06fec0-d776-4ec1-fff5-43ddf4f7c92e",
        "colab": {
          "resources": {
            "http://localhost:8080/nbextensions/google.colab/files.js": {
              "data": "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",
              "ok": true,
              "headers": [
                [
                  "content-type",
                  "application/javascript"
                ]
              ],
              "status": 200,
              "status_text": ""
            }
          },
          "base_uri": "https://localhost:8080/",
          "height": 110
        }
      },
      "source": [
        "#to upload files from your local machine\n",
        "from google.colab import files\n",
        "uploaded = files.upload()"
      ],
      "execution_count": 0,
      "outputs": [
        {
          "output_type": "display_data",
          "data": {
            "text/html": [
              "\n",
              "     <input type=\"file\" id=\"files-1560579d-ae2d-441e-891f-4cb37bab2f64\" name=\"files[]\" multiple disabled />\n",
              "     <output id=\"result-1560579d-ae2d-441e-891f-4cb37bab2f64\">\n",
              "      Upload widget is only available when the cell has been executed in the\n",
              "      current browser session. Please rerun this cell to enable.\n",
              "      </output>\n",
              "      <script src=\"/nbextensions/google.colab/files.js\"></script> "
            ],
            "text/plain": [
              "<IPython.core.display.HTML object>"
            ]
          },
          "metadata": {
            "tags": []
          }
        },
        {
          "output_type": "stream",
          "text": [
            "Saving road_accidents.csv to road_accidents.csv\n",
            "Saving roads.csv to roads.csv\n"
          ],
          "name": "stdout"
        }
      ]
    },
    {
      "cell_type": "code",
      "metadata": {
        "id": "Fi4ZgmdImX2o",
        "colab_type": "code",
        "outputId": "c5355ec3-a388-4163-9307-af70dc1cf10e",
        "colab": {
          "base_uri": "https://localhost:8080/",
          "height": 988
        }
      },
      "source": [
        "#to read data file\n",
        "roads= pd.read_csv(\"roads.csv\")\n",
        "accidents= pd.read_csv(\"road_accidents.csv\")\n",
        "\n",
        "#to find the number of rows and columns\n",
        "print(\"Shape of roads: \", roads.shape)\n",
        "print(\"Shape of accidents: \", roads.shape)\n",
        "\n",
        "#to display first 10 rows\n",
        "print(\"\\nHead of roads: \\n\\n\", roads.head(1))\n",
        "print(\"\\nHead of accidents: \\n\\n\", accidents.head(1))\n",
        "\n",
        "#to delete 2 columns: category and total\n",
        "roads_1 = roads.drop(['Category','Total'],axis=1,inplace=True)\n",
        "\n",
        "#to filter only 4 columns: States/UTs,2012,2013,2014\n",
        "accidents_1 = accidents.loc[:,['States/UTs', '2012', '2013','2014']]\n",
        "#filter without using loc\n",
        "#accidents_1 = accidents[['States/UTs', '2012', '2013','2014']]\n",
        "\n",
        "#outer merge roads_1 and accidents_1\n",
        "print(\"\\nOuter merge of the modified datasets: \\n\\n\", pd.merge(roads_1,accidents_1,on='States/UTs',how='outer'))"
      ],
      "execution_count": 0,
      "outputs": [
        {
          "output_type": "stream",
          "text": [
            "Shape of roads:  (31, 4)\n",
            "Shape of accidents:  (31, 4)\n",
            "\n",
            "Head of roads: \n",
            "\n",
            "   Category      States/UTs     Total  Surfaced\n",
            "0   States  Andhra Pradesh  168516.0     93573\n",
            "\n",
            "Head of accidents: \n",
            "\n",
            "        States/UTs     2006     2007     2008     2009     2010     2011  \\\n",
            "0  Andhra Pradesh  17468.0  18859.0  15320.0  17465.0  17996.0  19081.0   \n",
            "\n",
            "      2012     2013  2014  2015  \n",
            "0  14578.0  17355.0  7815  7263  \n",
            "\n",
            "Outer merge of the modified datasets: \n",
            "\n",
            "                    States/UTs   Surfaced      2012      2013    2014\n",
            "0              Andhra Pradesh    93573.0   14578.0   17355.0    7815\n",
            "1           Arunachal Pradesh     5262.0     147.0     242.0     149\n",
            "2                       Assam    27622.0    4174.0    4112.0    4186\n",
            "3                       Bihar    94421.0    5124.0    4470.0    4580\n",
            "4                Chhattisgarh    30295.0    6183.0    5824.0    6049\n",
            "5                         Goa     3221.0    1752.0    1920.0    1904\n",
            "6                     Gujarat    50621.0   10382.0    9434.0    8597\n",
            "7                     Haryana     4622.0    3221.0    3485.0    3628\n",
            "8            Himachal Pradesh    14714.0    1012.0    1093.0    1138\n",
            "9             Jammu & Kashmir    12404.0    2540.0    2601.0    2421\n",
            "10                  Jharkhand    17097.0    2496.0    2546.0    2547\n",
            "11                  Karnataka    90260.0   17797.0   18541.0   16617\n",
            "12                     Kerala    79354.0   14147.0   13775.0   14171\n",
            "13             Madhya Pradesh    75718.0   26726.0   26253.0   27474\n",
            "14                Maharashtra   193806.0   38227.0   36069.0   36473\n",
            "15                    Manipur     3919.0     502.0     246.0     166\n",
            "16                  Meghalaya     1194.0     354.0     346.0     311\n",
            "17                    Mizoram     2561.0      47.0      46.0      70\n",
            "18                   Nagaland    10930.0      32.0      50.0     248\n",
            "19                     Odisha   213446.0    4378.0    4500.0    4405\n",
            "20                     Punjab    62900.0    2175.0    2404.0    2641\n",
            "21                  Rajasthan    67313.0    8407.0    8653.0    8964\n",
            "22                     Sikkim     3343.0      53.0      80.0     146\n",
            "23                 Tamil Nadu   107803.0   28224.0   27333.0   24869\n",
            "24                    Tripura     8976.0     377.0     398.0     325\n",
            "25                Uttarakhand     6933.0     796.0     649.0     735\n",
            "26              Uttar Pradesh    79446.0   15715.0   15964.0   18605\n",
            "27                West Bengal    38156.0    6025.0    5694.0    6892\n",
            "28  Andaman & Nicobar Islands      111.0      74.0      61.0     131\n",
            "29                 Chandigarh      967.0     367.0     327.0     336\n",
            "30                  All India  1400988.0  223933.0  222883.0  226415\n",
            "31                  Telangana        NaN       NaN       NaN   10328\n",
            "32       Dadra & Nagar Haveli        NaN      14.0      48.0      19\n",
            "33                Daman & Diu        NaN      15.0      16.0      16\n",
            "34                      Delhi        NaN    6937.0    7566.0    8623\n",
            "35                Lakshadweep        NaN       0.0       0.0       0\n",
            "36                 Puducherry        NaN     935.0     782.0     836\n"
          ],
          "name": "stdout"
        }
      ]
    },
    {
      "cell_type": "code",
      "metadata": {
        "id": "GLn7RDXIw0Qu",
        "colab_type": "code",
        "outputId": "0ed30f0f-4495-4e73-d81b-0ba9a8c01fa0",
        "colab": {
          "base_uri": "https://localhost:8080/",
          "height": 520
        }
      },
      "source": [
        "import matplotlib.pyplot as plt\n",
        "import seaborn as sns\n",
        "import statsmodels.api as sm\n",
        "#sklearn, statsmodels : with both we can do regression and classification\\\n",
        "#tenser flow is for parallel processing\n",
        "\n",
        "cars = sm.datasets.get_rdataset('mtcars').data\n",
        "\n",
        "#T will transpose the dataset, by interchanging rows and columns\n",
        "print(cars.head(4).T)\n",
        "\n",
        "print(cars.info())\n",
        "\n",
        "#correation= -covariance(x,y)/standard_deviation(x).standard_deviation(y)\n",
        "# C=0.9 --> positive and linear\n",
        "# C = -0.9  --> negative and higher\n",
        "# C = 0  --> no correlation\n"
      ],
      "execution_count": 0,
      "outputs": [
        {
          "output_type": "stream",
          "text": [
            "      Mazda RX4  Mazda RX4 Wag  Datsun 710  Hornet 4 Drive\n",
            "mpg       21.00         21.000       22.80          21.400\n",
            "cyl        6.00          6.000        4.00           6.000\n",
            "disp     160.00        160.000      108.00         258.000\n",
            "hp       110.00        110.000       93.00         110.000\n",
            "drat       3.90          3.900        3.85           3.080\n",
            "wt         2.62          2.875        2.32           3.215\n",
            "qsec      16.46         17.020       18.61          19.440\n",
            "vs         0.00          0.000        1.00           1.000\n",
            "am         1.00          1.000        1.00           0.000\n",
            "gear       4.00          4.000        4.00           3.000\n",
            "carb       4.00          4.000        1.00           1.000\n",
            "<class 'pandas.core.frame.DataFrame'>\n",
            "Index: 32 entries, Mazda RX4 to Volvo 142E\n",
            "Data columns (total 11 columns):\n",
            "mpg     32 non-null float64\n",
            "cyl     32 non-null int64\n",
            "disp    32 non-null float64\n",
            "hp      32 non-null int64\n",
            "drat    32 non-null float64\n",
            "wt      32 non-null float64\n",
            "qsec    32 non-null float64\n",
            "vs      32 non-null int64\n",
            "am      32 non-null int64\n",
            "gear    32 non-null int64\n",
            "carb    32 non-null int64\n",
            "dtypes: float64(5), int64(6)\n",
            "memory usage: 3.0+ KB\n",
            "None\n"
          ],
          "name": "stdout"
        }
      ]
    },
    {
      "cell_type": "code",
      "metadata": {
        "id": "l4aTksNG2ANn",
        "colab_type": "code",
        "outputId": "584ea7e8-d707-47d0-857d-b978bdbb8939",
        "colab": {
          "base_uri": "https://localhost:8080/",
          "height": 555
        }
      },
      "source": [
        "sns.regplot(x=cars.mpg,y=cars.wt,ci=95)\n",
        "corcoef = np.corrcoef(cars.mpg, cars.wt)[0,1]\n",
        "text_cc = '\\n\\n\\n\\n correlation coefficient is %1.4f'%corcoef\n",
        "plt.title('Scatter plot MPG vs Weight')\n",
        "plt.suptitle(text_cc)\n",
        "plt.gcf().tight_layout()\n",
        "plt.show()\n",
        "\n",
        "#to find correlation between all variables\n",
        "sns.heatmap(cars.corr(), cmap='BuGn')\n",
        "plt.show()\n",
        "\n",
        "#Straight line equation: y = mx+c\n",
        "# y=4.8 when x = 0 --> c=5\n",
        "# y=1 when x=35 --> 1=35m+c  --> m=-4/35=-0.11\n",
        "# y = -0.11x + 5"
      ],
      "execution_count": 0,
      "outputs": [
        {
          "output_type": "display_data",
          "data": {
            "image/png": "[encoded data removed]",
            "text/plain": [
              "<Figure size 432x288 with 1 Axes>"
            ]
          },
          "metadata": {
            "tags": []
          }
        },
        {
          "output_type": "display_data",
          "data": {
            "image/png": "[encoded data removed]",
            "text/plain": [
              "<Figure size 432x288 with 2 Axes>"
            ]
          },
          "metadata": {
            "tags": []
          }
        }
      ]
    },
    {
      "cell_type": "code",
      "metadata": {
        "id": "e9fdkpXl_ICL",
        "colab_type": "code",
        "outputId": "49ff48fb-5ee0-4d38-ac1f-bb0ca98e0a19",
        "colab": {
          "base_uri": "https://localhost:8080/",
          "height": 89
        }
      },
      "source": [
        "# take a random line equation, sum the squares of distances from line and try to min value of sum to get the correct equation \n",
        "# this is ordinary least squares (OLS) method\n",
        "\n",
        "x = cars.wt\n",
        "y = cars.mpg\n",
        "x = sm.add_constant(x)\n",
        "model = sm.OLS(y,x).fit()\n",
        "predictions = model.predict(x)\n",
        "model.summary()\n",
        "\n",
        "# pre-processing (data aggregation, data sampling, data cleaning, munging)\n",
        "# model step (regression, classification)\n",
        "# post step (improving accuracy, error, push to production)\n",
        "\n",
        "new_x = [1,3]\n",
        "predictions = model.predict(new_x)\n",
        "print('Predicted mpg of the car with weight %d(000lbs) is %2.2f' % (3.0, np.round(predictions,3)))"
      ],
      "execution_count": 0,
      "outputs": [
        {
          "output_type": "stream",
          "text": [
            "Predicted mpg of the car with weight 3(000lbs) is 21.25\n"
          ],
          "name": "stdout"
        },
        {
          "output_type": "stream",
          "text": [
            "/usr/local/lib/python3.6/dist-packages/numpy/core/fromnumeric.py:2389: FutureWarning: Method .ptp is deprecated and will be removed in a future version. Use numpy.ptp instead.\n",
            "  return ptp(axis=axis, out=out, **kwargs)\n"
          ],
          "name": "stderr"
        }
      ]
    },
    {
      "cell_type": "code",
      "metadata": {
        "id": "5ZLZLo0nG4Aw",
        "colab_type": "code",
        "outputId": "6d275172-6a5f-4605-9dce-11cec207f82a",
        "colab": {
          "base_uri": "https://localhost:8080/",
          "height": 52
        }
      },
      "source": [
        "from sklearn import linear_model\n",
        "#need to reshape, if there is only one parameter\n",
        "# x is independent variable, y is dependent\n",
        "x = np.array(cars.wt).reshape(-1,1)\n",
        "y = cars.mpg\n",
        "lm = linear_model.LinearRegression()\n",
        "model = lm.fit(x,y)\n",
        "prediction = lm.predict(x)\n",
        "print('R sqaure is %1.3f' %lm.score(x,y))\n",
        "\n",
        "#for weight = 3, need to predict mpg value using the model\n",
        "new_x = np.array(3).reshape(-1,1)\n",
        "predicted_val = lm.predict(new_x)\n",
        "print(predicted_val[0])\n",
        "\n",
        "#correlation is pre model\n",
        "#R square is post model\n",
        "\n",
        "#R square is the coeff of determination\n",
        "#how well the model fits the data\n",
        "#explains the proportion of variance for relationship between independent and dependent variable "
      ],
      "execution_count": 0,
      "outputs": [
        {
          "output_type": "stream",
          "text": [
            "R sqaure is 0.753\n",
            "21.25171144917401\n"
          ],
          "name": "stdout"
        }
      ]
    },
    {
      "cell_type": "code",
      "metadata": {
        "id": "KAbOzfVioeZc",
        "colab_type": "code",
        "colab": {}
      },
      "source": [
        "#to read data file\n",
        "import pandas as pd\n",
        "roads= pd.read_csv(\"roads.csv\")\n",
        "accidents= pd.read_csv(\"road_accidents.csv\")"
      ],
      "execution_count": 0,
      "outputs": []
    },
    {
      "cell_type": "code",
      "metadata": {
        "id": "PEut5CEbo5Pb",
        "colab_type": "code",
        "outputId": "334700af-a6ac-4a4f-9fa2-1198f77f45ef",
        "colab": {
          "base_uri": "https://localhost:8080/",
          "height": 87
        }
      },
      "source": [
        "#redo the example with cars.qsec and cars.disp as the independent variables and mcars.mpg as the dependent variable\n",
        "\n",
        "import numpy as np\n",
        "import statsmodels.api as sm\n",
        "from sklearn import linear_model\n",
        "#need to reshape, if there is only one parameter\n",
        "# x is independent variable, y is dependent\n",
        "\n",
        "cars = sm.datasets.get_rdataset('mtcars').data\n",
        "x = np.array(cars.qsec).reshape(-1,1)\n",
        "y = cars.mpg\n",
        "lm = linear_model.LinearRegression()\n",
        "model = lm.fit(x,y)\n",
        "prediction = lm.predict(x)\n",
        "print('R sqaure for qsec is %1.3f' %lm.score(x,y))\n",
        "\n",
        "x1 = np.array(cars.disp).reshape(-1,1)\n",
        "y1 = cars.mpg\n",
        "lm = linear_model.LinearRegression()\n",
        "model = lm.fit(x1,y1)\n",
        "prediction = lm.predict(x1)\n",
        "print('R sqaure for disp is %1.3f' %lm.score(x1,y1))\n",
        "\n",
        "# reg.score(X, y)  --> Returns the coefficient of determination R^2 of the prediction.\n",
        "print(model.coef_)\n",
        "print(model.intercept_)"
      ],
      "execution_count": 0,
      "outputs": [
        {
          "output_type": "stream",
          "text": [
            "R sqaure for qsec is 0.175\n",
            "R sqaure for disp is 0.718\n",
            "[-0.04121512]\n",
            "29.599854756163946\n"
          ],
          "name": "stdout"
        }
      ]
    },
    {
      "cell_type": "code",
      "metadata": {
        "id": "Fn62iaPstIUJ",
        "colab_type": "code",
        "outputId": "c8e6effc-dcc8-41da-d2fc-9e9f7fe9e444",
        "colab": {
          "base_uri": "https://localhost:8080/",
          "height": 575
        }
      },
      "source": [
        "#fitting the model by using 2 independent variables\n",
        "\n",
        "#using sk learn, no need to add constant\n",
        "x = cars[[\"wt\",\"disp\"]]\n",
        "y = cars.mpg\n",
        "lm = linear_model.LinearRegression()\n",
        "model = lm.fit(x,y)\n",
        "prediction = lm.predict(x)\n",
        "print('R sqaure for wt, disp using sk learn is %1.3f/n/n' %lm.score(x,y))\n",
        "\n",
        "#using statsmodels.api\n",
        "x = cars[[\"wt\",\"disp\"]]\n",
        "y = cars.mpg\n",
        "x = sm.add_constant(x)\n",
        "model = sm.OLS(y,x).fit()\n",
        "predictions = model.predict(x)\n",
        "print(model.summary())"
      ],
      "execution_count": 0,
      "outputs": [
        {
          "output_type": "stream",
          "text": [
            "R sqaure for wt, disp using sk learn is 0.781/n/n\n",
            "                            OLS Regression Results                            \n",
            "==============================================================================\n",
            "Dep. Variable:                    mpg   R-squared:                       0.781\n",
            "Model:                            OLS   Adj. R-squared:                  0.766\n",
            "Method:                 Least Squares   F-statistic:                     51.69\n",
            "Date:                Wed, 08 May 2019   Prob (F-statistic):           2.74e-10\n",
            "Time:                        04:45:10   Log-Likelihood:                -78.084\n",
            "No. Observations:                  32   AIC:                             162.2\n",
            "Df Residuals:                      29   BIC:                             166.6\n",
            "Df Model:                           2                                         \n",
            "Covariance Type:            nonrobust                                         \n",
            "==============================================================================\n",
            "                 coef    std err          t      P>|t|      [0.025      0.975]\n",
            "------------------------------------------------------------------------------\n",
            "const         34.9606      2.165     16.151      0.000      30.534      39.388\n",
            "wt            -3.3508      1.164     -2.878      0.007      -5.732      -0.970\n",
            "disp          -0.0177      0.009     -1.929      0.064      -0.037       0.001\n",
            "==============================================================================\n",
            "Omnibus:                        4.079   Durbin-Watson:                   1.277\n",
            "Prob(Omnibus):                  0.130   Jarque-Bera (JB):                3.665\n",
            "Skew:                           0.812   Prob(JB):                        0.160\n",
            "Kurtosis:                       2.666   Cond. No.                     1.21e+03\n",
            "==============================================================================\n",
            "\n",
            "Warnings:\n",
            "[1] Standard Errors assume that the covariance matrix of the errors is correctly specified.\n",
            "[2] The condition number is large, 1.21e+03. This might indicate that there are\n",
            "strong multicollinearity or other numerical problems.\n"
          ],
          "name": "stdout"
        },
        {
          "output_type": "stream",
          "text": [
            "/usr/local/lib/python3.6/dist-packages/numpy/core/fromnumeric.py:2389: FutureWarning: Method .ptp is deprecated and will be removed in a future version. Use numpy.ptp instead.\n",
            "  return ptp(axis=axis, out=out, **kwargs)\n"
          ],
          "name": "stderr"
        }
      ]
    },
    {
      "cell_type": "code",
      "metadata": {
        "id": "pTYwdkBXy56A",
        "colab_type": "code",
        "outputId": "800213ba-d6c8-4fc9-99a3-93e84307e5e0",
        "colab": {
          "base_uri": "https://localhost:8080/",
          "height": 589
        }
      },
      "source": [
        "# P>0.05  --> drop the feature as its insignificant\n",
        "x = cars[[\"disp\",\"hp\",\"drat\",\"wt\",\"qsec\",\"am\",\"gear\",\"carb\"]]\n",
        "y = cars.mpg\n",
        "model = sm.OLS(y,x).fit()\n",
        "predictions = model.predict(x)\n",
        "print(model.summary())\n",
        "\n",
        "#automatic model building , stepwise regression (backward and forward) --> keep removing colinear variables (higher R sq and lower probability)\n",
        "#collinearity --> two variables are highly correlated (high correlation coeff)\n",
        "\n",
        "#variance inflation factor(VIF) -> checks for multi-collinearity across the data"
      ],
      "execution_count": 0,
      "outputs": [
        {
          "output_type": "stream",
          "text": [
            "                            OLS Regression Results                            \n",
            "==============================================================================\n",
            "Dep. Variable:                    mpg   R-squared:                       0.989\n",
            "Model:                            OLS   Adj. R-squared:                  0.986\n",
            "Method:                 Least Squares   F-statistic:                     273.8\n",
            "Date:                Wed, 08 May 2019   Prob (F-statistic):           1.16e-21\n",
            "Time:                        05:14:46   Log-Likelihood:                -70.355\n",
            "No. Observations:                  32   AIC:                             156.7\n",
            "Df Residuals:                      24   BIC:                             168.4\n",
            "Df Model:                           8                                         \n",
            "Covariance Type:            nonrobust                                         \n",
            "==============================================================================\n",
            "                 coef    std err          t      P>|t|      [0.025      0.975]\n",
            "------------------------------------------------------------------------------\n",
            "disp           0.0177      0.015      1.212      0.237      -0.012       0.048\n",
            "hp            -0.0180      0.019     -0.923      0.365      -0.058       0.022\n",
            "drat           1.2555      1.408      0.892      0.381      -1.650       4.161\n",
            "wt            -4.0438      1.740     -2.324      0.029      -7.636      -0.452\n",
            "qsec           1.2829      0.365      3.518      0.002       0.530       2.036\n",
            "am             2.7639      1.846      1.497      0.147      -1.046       6.573\n",
            "gear           0.9634      1.283      0.751      0.460      -1.685       3.612\n",
            "carb          -0.1563      0.746     -0.210      0.836      -1.696       1.383\n",
            "==============================================================================\n",
            "Omnibus:                        1.361   Durbin-Watson:                   2.057\n",
            "Prob(Omnibus):                  0.506   Jarque-Bera (JB):                1.242\n",
            "Skew:                           0.341   Prob(JB):                        0.537\n",
            "Kurtosis:                       2.318   Cond. No.                     1.40e+03\n",
            "==============================================================================\n",
            "\n",
            "Warnings:\n",
            "[1] Standard Errors assume that the covariance matrix of the errors is correctly specified.\n",
            "[2] The condition number is large, 1.4e+03. This might indicate that there are\n",
            "strong multicollinearity or other numerical problems.\n"
          ],
          "name": "stdout"
        }
      ]
    },
    {
      "cell_type": "code",
      "metadata": {
        "id": "_KlsIyk_64da",
        "colab_type": "code",
        "outputId": "5c6e6f7b-1437-45f7-e893-981f2fcb3e82",
        "colab": {
          "resources": {
            "http://localhost:8080/nbextensions/google.colab/files.js": {
              "data": "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",
              "ok": true,
              "headers": [
                [
                  "content-type",
                  "application/javascript"
                ]
              ],
              "status": 200,
              "status_text": ""
            }
          },
          "base_uri": "https://localhost:8080/",
          "height": 75
        }
      },
      "source": [
        "#to upload files from your local machine\n",
        "from google.colab import files\n",
        "uploaded = files.upload()"
      ],
      "execution_count": 0,
      "outputs": [
        {
          "output_type": "display_data",
          "data": {
            "text/html": [
              "\n",
              "     <input type=\"file\" id=\"files-c968bf89-1821-4ca3-9652-6085f6ae4c1d\" name=\"files[]\" multiple disabled />\n",
              "     <output id=\"result-c968bf89-1821-4ca3-9652-6085f6ae4c1d\">\n",
              "      Upload widget is only available when the cell has been executed in the\n",
              "      current browser session. Please rerun this cell to enable.\n",
              "      </output>\n",
              "      <script src=\"/nbextensions/google.colab/files.js\"></script> "
            ],
            "text/plain": [
              "<IPython.core.display.HTML object>"
            ]
          },
          "metadata": {
            "tags": []
          }
        },
        {
          "output_type": "stream",
          "text": [
            "Saving concrete.csv to concrete.csv\n"
          ],
          "name": "stdout"
        }
      ]
    },
    {
      "cell_type": "code",
      "metadata": {
        "id": "ednTNcX-AeV4",
        "colab_type": "code",
        "colab": {}
      },
      "source": [
        "concretes= pd.read_csv(\"concrete.csv\")"
      ],
      "execution_count": 0,
      "outputs": []
    },
    {
      "cell_type": "code",
      "metadata": {
        "id": "f0xFD2roAgpp",
        "colab_type": "code",
        "outputId": "5e6a1091-71dc-436c-978d-dbe4b00e674c",
        "colab": {
          "base_uri": "https://localhost:8080/",
          "height": 228
        }
      },
      "source": [
        "#to find the number of rows and columns\n",
        "print(\"Shape of concretes: \", concretes.shape)\n",
        "\n",
        "#to display first 10 rows\n",
        "# print(\"\\nHead of concretes: \\n\\n\", concretes.head(1))\n",
        "\n",
        "\n",
        "# to model 'strength' with all the variables\n",
        "#get the column names and store it in a list variables\n",
        "variables = []\n",
        "for row in concretes:\n",
        "  variables.append(row.split()[0])\n",
        "#remove the column for which we will be modelling, that is the dependent variable strength\n",
        "variables.remove('strength')\n",
        "print(\"Columns to be modeld with strength variable: \", variables,\"\\n\")\n",
        "\n",
        "#build the model\n",
        "x_conc = concretes[[\"age\",\"slag\",\"superplastic\",\"ash\",\"cement\",\"water\",\"coarseagg\",\"fineagg\"]]\n",
        "y_conc = concretes.strength\n",
        "x_conc = sm.add_constant(x_conc)\n",
        "model = sm.OLS(y_conc,x_conc).fit()\n",
        "predictions = model.predict(x_conc)\n",
        "# print(model.summary())\n",
        "\n",
        "#print vif for all features\n",
        "from statsmodels.stats.outliers_influence import variance_inflation_factor\n",
        "vif_list = [variance_inflation_factor(x_conc.values, i) for i in range(0,x_conc.shape[1])]\n",
        "print(\"VIF values for all columns: \\n\", vif_list,\"\\n\")\n",
        "\n",
        "#build the model again by removing variables till all vif values are less than 5\n",
        "x_conc = concretes[[\"age\",\"slag\",\"superplastic\",\"ash\"]]\n",
        "y_conc = concretes.strength\n",
        "x_conc = sm.add_constant(x_conc)\n",
        "model = sm.OLS(y_conc,x_conc).fit()\n",
        "predictions = model.predict(x_conc)\n",
        "# print(model.summary())\n",
        "\n",
        "#print vif for all features\n",
        "from statsmodels.stats.outliers_influence import variance_inflation_factor\n",
        "vif_list = [variance_inflation_factor(x_conc.values, i) for i in range(0,x_conc.shape[1])]\n",
        "print(\"VIF values less than threshold 5 for all columns : \\n\", vif_list,\"\\n\")\n"
      ],
      "execution_count": 0,
      "outputs": [
        {
          "output_type": "stream",
          "text": [
            "Shape of concretes:  (1030, 9)\n",
            "Columns to be modeld with strength variable:  ['cement', 'slag', 'ash', 'water', 'superplastic', 'coarseagg', 'fineagg', 'age'] \n",
            "\n",
            "VIF values for all columns: \n",
            " [6731.81153941005, 1.118366523900543, 7.276963098742667, 2.9637757487001792, 6.170634315398802, 7.488943791050504, 7.003956703955316, 5.074616997481172, 7.005081407516062] \n",
            "\n",
            "VIF values less than threshold 5 for all columns : \n",
            " [4.611706497439256, 1.0529649753875938, 1.1648164502640292, 1.2303837819476826, 1.3650533648459464] \n",
            "\n"
          ],
          "name": "stdout"
        },
        {
          "output_type": "stream",
          "text": [
            "/usr/local/lib/python3.6/dist-packages/numpy/core/fromnumeric.py:2389: FutureWarning: Method .ptp is deprecated and will be removed in a future version. Use numpy.ptp instead.\n",
            "  return ptp(axis=axis, out=out, **kwargs)\n"
          ],
          "name": "stderr"
        }
      ]
    },
    {
      "cell_type": "code",
      "metadata": {
        "id": "qCQGOyF5gVq6",
        "colab_type": "code",
        "colab": {}
      },
      "source": [
        "# sckit-learn --> logistic regression\n",
        "# ols --> logit_model\n",
        "# sgmoid function graoh for logisitic regression (classification)\n",
        "\n",
        "from sklearn.linear_model import LogisticRegression"
      ],
      "execution_count": 0,
      "outputs": []
    },
    {
      "cell_type": "code",
      "metadata": {
        "id": "_sowA33Gjrc1",
        "colab_type": "code",
        "outputId": "1355cb7f-afa1-43d4-a81c-e2b9bcfae23e",
        "colab": {
          "resources": {
            "http://localhost:8080/nbextensions/google.colab/files.js": {
              "data": "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",
              "ok": true,
              "headers": [
                [
                  "content-type",
                  "application/javascript"
                ]
              ],
              "status": 200,
              "status_text": ""
            }
          },
          "base_uri": "https://localhost:8080/",
          "height": 75
        }
      },
      "source": [
        "#to upload files from your local machine\n",
        "from google.colab import files\n",
        "uploaded = files.upload()"
      ],
      "execution_count": 0,
      "outputs": [
        {
          "output_type": "display_data",
          "data": {
            "text/html": [
              "\n",
              "     <input type=\"file\" id=\"files-83763090-c266-4a9b-8902-948b40338930\" name=\"files[]\" multiple disabled />\n",
              "     <output id=\"result-83763090-c266-4a9b-8902-948b40338930\">\n",
              "      Upload widget is only available when the cell has been executed in the\n",
              "      current browser session. Please rerun this cell to enable.\n",
              "      </output>\n",
              "      <script src=\"/nbextensions/google.colab/files.js\"></script> "
            ],
            "text/plain": [
              "<IPython.core.display.HTML object>"
            ]
          },
          "metadata": {
            "tags": []
          }
        },
        {
          "output_type": "stream",
          "text": [
            "Saving wisc_bc_data.csv to wisc_bc_data.csv\n"
          ],
          "name": "stdout"
        }
      ]
    },
    {
      "cell_type": "code",
      "metadata": {
        "id": "o_d2W3gmjxSu",
        "colab_type": "code",
        "outputId": "08e6e5ea-4aa1-4cbb-ca83-a13c63955738",
        "colab": {
          "base_uri": "https://localhost:8080/",
          "height": 367
        }
      },
      "source": [
        "#read cancer dataset --> wisconsin breast cancer dataset \n",
        "cancer= pd.read_csv(\"wisc_bc_data.csv\")\n",
        "\n",
        "#to find the number of rows and columns\n",
        "print(\"Shape of cancer: \", cancer.shape)\n",
        "\n",
        "#converting column string values to numerics M: malignant, B: benign\n",
        "cancer[\"diagnosis\"] = cancer[\"diagnosis\"].map({'B':0,'M':1})\n",
        "       \n",
        "#to display first 10 rows\n",
        "# print(\"\\nHead of cancer: \\n\\n\", cancer.head(1))\n",
        "\n",
        "#to model 'daignosis' with all the variables\n",
        "#get the column names and store it in a list variables\n",
        "cancer_variables = []\n",
        "for row in cancer:\n",
        "  cancer_variables.append(row.split()[0])\n",
        "\n",
        "#remove the column for which we will be modelling, that is the dependent variable strength\n",
        "cancer_variables.remove('diagnosis')\n",
        "cancer_variables.remove('id')\n",
        "print(\"Columns of cancer data: \", cancer_variables,\"\\n\")\n",
        "\n",
        "#set x and y variables\n",
        "cancer_x = cancer[cancer_variables]\n",
        "cancer_y = cancer.diagnosis\n",
        "\n",
        "#build the logistic regression model for cancer dataset\n",
        "lm = linear_model.LogisticRegression()\n",
        "model = lm.fit(cancer_x,cancer_y)\n",
        "prediction = model.predict(cancer_x)\n",
        "\n",
        "#find the accuracy\n",
        "print(\"R square for cancer logistic regression model is : \",model.score(cancer_x,cancer_y),\"\\n\")\n",
        "#accuracy is 95%\n",
        "\n",
        "#Classification Matrix/ Confusion Matrix \n",
        "#Column total gives the predicted value and row total gives the actual value\n",
        "from sklearn import metrics\n",
        "print(\"Classification matrix for cancer logistic regression model is : \\n\", metrics.confusion_matrix(cancer_y, prediction),\"\\n\")\n",
        "\n",
        "cm = metrics.confusion_matrix(cancer_y, prediction)\n",
        "#Calculate precision score and recall_score\n",
        "print(\"Accuracy score : \", metrics.accuracy_score(cancer_y, prediction))\n",
        "print(\"Precision score: \", metrics.precision_score(cancer_y, prediction))\n",
        "print(\"Recall score : \", recall_score(cancer_y, prediction))\n",
        "print(\"f1 score : \", metrics.f1_score(cancer_y, prediction))\n",
        "print(\"Kappa score : \", metrics.cohen_kappa_score(cancer_y, prediction))\n",
        "print('Sensitivity : ', cm[0,0]/(cm[0,0]+cm[0,1]))\n",
        "print('Specificity : ', cm[1,1]/(cm[1,0]+cm[1,1]),\"\\n\")\n",
        "\n",
        "# Sensitivity/Recall – how good a test is at detecting the positives.\n",
        "# Specificity – how good a test is at avoiding false alarms.\n",
        "# Precision – how many of the positively classified were relevant. \n",
        "\n",
        "#Sensitivity = (No. of true +ve) / (No.of true +ve + No. of false -ve) --> also called True +ve Rate\n",
        "#Specificity = (No. of true -ve) / (No.of true -ve + No. of false +ve)"
      ],
      "execution_count": 0,
      "outputs": [
        {
          "output_type": "stream",
          "text": [
            "Shape of cancer:  (569, 32)\n",
            "Columns of cancer data:  ['radius_mean', 'texture_mean', 'perimeter_mean', 'area_mean', 'smoothness_mean', 'compactness_mean', 'concavity_mean', 'points_mean', 'symmetry_mean', 'dimension_mean', 'radius_se', 'texture_se', 'perimeter_se', 'area_se', 'smoothness_se', 'compactness_se', 'concavity_se', 'points_se', 'symmetry_se', 'dimension_se', 'radius_worst', 'texture_worst', 'perimeter_worst', 'area_worst', 'smoothness_worst', 'compactness_worst', 'concavity_worst', 'points_worst', 'symmetry_worst', 'dimension_worst'] \n",
            "\n",
            "R square for cancer logistic regression model is :  0.9595782073813708 \n",
            "\n",
            "Classification matrix for cancer logistic regression model is : \n",
            " [[348   9]\n",
            " [ 14 198]] \n",
            "\n",
            "Accuracy score :  0.9595782073813708\n",
            "Precision score:  0.9565217391304348\n",
            "Recall score :  0.9339622641509434\n",
            "f1 score :  0.9451073985680192\n",
            "Kappa score :  0.9131257343520774\n",
            "Sensitivity :  0.9747899159663865\n",
            "Specificity :  0.9339622641509434 \n",
            "\n"
          ],
          "name": "stdout"
        },
        {
          "output_type": "stream",
          "text": [
            "/usr/local/lib/python3.6/dist-packages/sklearn/linear_model/logistic.py:433: FutureWarning: Default solver will be changed to 'lbfgs' in 0.22. Specify a solver to silence this warning.\n",
            "  FutureWarning)\n"
          ],
          "name": "stderr"
        }
      ]
    },
    {
      "cell_type": "code",
      "metadata": {
        "id": "KlwmE-ai5etS",
        "colab_type": "code",
        "outputId": "0351f485-40da-42fd-c93c-5c0f93336fb2",
        "colab": {
          "resources": {
            "http://localhost:8080/nbextensions/google.colab/files.js": {
              "data": "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",
              "ok": true,
              "headers": [
                [
                  "content-type",
                  "application/javascript"
                ]
              ],
              "status": 200,
              "status_text": ""
            }
          },
          "base_uri": "https://localhost:8080/",
          "height": 75
        }
      },
      "source": [
        "#to upload files from your local machine\n",
        "from google.colab import files\n",
        "uploaded = files.upload()"
      ],
      "execution_count": 87,
      "outputs": [
        {
          "output_type": "display_data",
          "data": {
            "text/html": [
              "\n",
              "     <input type=\"file\" id=\"files-bdf3a1a0-7814-416e-b415-baceb8ad01fa\" name=\"files[]\" multiple disabled />\n",
              "     <output id=\"result-bdf3a1a0-7814-416e-b415-baceb8ad01fa\">\n",
              "      Upload widget is only available when the cell has been executed in the\n",
              "      current browser session. Please rerun this cell to enable.\n",
              "      </output>\n",
              "      <script src=\"/nbextensions/google.colab/files.js\"></script> "
            ],
            "text/plain": [
              "<IPython.core.display.HTML object>"
            ]
          },
          "metadata": {
            "tags": []
          }
        },
        {
          "output_type": "stream",
          "text": [
            "Saving loans.csv to loans.csv\n"
          ],
          "name": "stdout"
        }
      ]
    },
    {
      "cell_type": "code",
      "metadata": {
        "id": "PS0iqgeAQPYp",
        "colab_type": "code",
        "colab": {
          "base_uri": "https://localhost:8080/",
          "height": 225
        },
        "outputId": "7867f3d2-05bc-41da-e404-8ed5060a3ed6"
      },
      "source": [
        "import pandas as pd\n",
        "#read cancer dataset --> wisconsin breast cancer dataset \n",
        "loans= pd.read_csv(\"loans.csv\")\n",
        "\n",
        "#to find the number of rows and columns\n",
        "print(\"Shape of loans: \", loans.shape)\n",
        "       \n",
        "#to display first 10 rows\n",
        "print(\"\\nHead of loans: \\n\\n\", loans.head(1))"
      ],
      "execution_count": 169,
      "outputs": [
        {
          "output_type": "stream",
          "text": [
            "Shape of loans:  (9578, 14)\n",
            "\n",
            "Head of loans: \n",
            "\n",
            "    credit.policy             purpose  int.rate  installment  log.annual.inc  \\\n",
            "0              1  debt_consolidation    0.1189        829.1       11.350407   \n",
            "\n",
            "     dti  fico  days.with.cr.line  revol.bal  revol.util  inq.last.6mths  \\\n",
            "0  19.48   737        5639.958333      28854        52.1               0   \n",
            "\n",
            "   delinq.2yrs  pub.rec  not.fully.paid  \n",
            "0            0        0               0  \n"
          ],
          "name": "stdout"
        }
      ]
    },
    {
      "cell_type": "code",
      "metadata": {
        "id": "trCtUTikQuJI",
        "colab_type": "code",
        "colab": {
          "base_uri": "https://localhost:8080/",
          "height": 1092
        },
        "outputId": "daea44cd-9e24-4fae-89a1-a865ad4f1caf"
      },
      "source": [
        "#converting column string values to numerics M: malignant, B: benign\n",
        "loans['purpose'] = loans['purpose'].map({'debt_consolidation':1,'credit_card':2,'small_business':3,'all_other':4,'home_improvement':5,'major_purchase':6,'educational':7})\n",
        "print(loans['purpose'])\n",
        "\n",
        "loans_x = loans[['purpose','int.rate','installment','log.annual.inc','dti','fico','days.with.cr.line','revol.bal','revol.util','inq.last.6mths','delinq.2yrs','pub.rec','not.fully.paid']]\n",
        "loans_y = loans['credit.policy']"
      ],
      "execution_count": 170,
      "outputs": [
        {
          "output_type": "stream",
          "text": [
            "0       1\n",
            "1       2\n",
            "2       1\n",
            "3       1\n",
            "4       2\n",
            "5       2\n",
            "6       1\n",
            "7       4\n",
            "8       5\n",
            "9       1\n",
            "10      1\n",
            "11      1\n",
            "12      1\n",
            "13      3\n",
            "14      1\n",
            "15      6\n",
            "16      4\n",
            "17      2\n",
            "18      1\n",
            "19      6\n",
            "20      4\n",
            "21      4\n",
            "22      2\n",
            "23      2\n",
            "24      1\n",
            "25      4\n",
            "26      4\n",
            "27      1\n",
            "28      4\n",
            "29      4\n",
            "       ..\n",
            "9548    5\n",
            "9549    5\n",
            "9550    4\n",
            "9551    5\n",
            "9552    1\n",
            "9553    1\n",
            "9554    3\n",
            "9555    5\n",
            "9556    1\n",
            "9557    2\n",
            "9558    1\n",
            "9559    2\n",
            "9560    4\n",
            "9561    4\n",
            "9562    1\n",
            "9563    1\n",
            "9564    4\n",
            "9565    4\n",
            "9566    4\n",
            "9567    4\n",
            "9568    4\n",
            "9569    5\n",
            "9570    4\n",
            "9571    4\n",
            "9572    1\n",
            "9573    4\n",
            "9574    4\n",
            "9575    1\n",
            "9576    5\n",
            "9577    1\n",
            "Name: purpose, Length: 9578, dtype: int64\n"
          ],
          "name": "stdout"
        }
      ]
    },
    {
      "cell_type": "code",
      "metadata": {
        "id": "pK-ZBLmERPZs",
        "colab_type": "code",
        "colab": {
          "base_uri": "https://localhost:8080/",
          "height": 72
        },
        "outputId": "608060b7-9472-4b09-83c9-f19d15df576d"
      },
      "source": [
        "import numpy as np\n",
        "import statsmodels.api as sm\n",
        "from sklearn import linear_model\n",
        "#build the logistic regression model for cancer dataset\n",
        "lm = linear_model.LogisticRegression()\n",
        "model = lm.fit(loans_x,loans_y)\n",
        "prediction = model.predict(loans_x)"
      ],
      "execution_count": 171,
      "outputs": [
        {
          "output_type": "stream",
          "text": [
            "/usr/local/lib/python3.6/dist-packages/sklearn/linear_model/logistic.py:433: FutureWarning: Default solver will be changed to 'lbfgs' in 0.22. Specify a solver to silence this warning.\n",
            "  FutureWarning)\n"
          ],
          "name": "stderr"
        }
      ]
    },
    {
      "cell_type": "code",
      "metadata": {
        "id": "246PW5yoyptq",
        "colab_type": "code",
        "colab": {
          "base_uri": "https://localhost:8080/",
          "height": 124
        },
        "outputId": "fed3fd77-5e67-40c0-f6e0-0ab6e59aa29a"
      },
      "source": [
        "#find the accuracy\n",
        "print(\"R square for cancer logistic regression model is : \",model.score(loans_x,loans_y),\"\\n\")\n",
        "#accuracy is 95%\n",
        "\n",
        "#print vif for all features\n",
        "from statsmodels.stats.outliers_influence import variance_inflation_factor\n",
        "\n",
        "vif_list = [variance_inflation_factor(loans_x.values, i) for i in range(0,loans_x.shape[1])]\n",
        "print(\"VIF values less than threshold 5 for all columns : \\n\", vif_list,\"\\n\")\n"
      ],
      "execution_count": 172,
      "outputs": [
        {
          "output_type": "stream",
          "text": [
            "R square for cancer logistic regression model is :  0.8992482773021507 \n",
            "\n",
            "VIF values less than threshold 5 for all columns : \n",
            " [3.779180527033484, 35.44501424010862, 4.407884747927712, 377.22387382201237, 5.190353441584616, 281.9650703522308, 5.246615451151871, 1.5622051343225627, 5.838918362075207, 1.6689922213815587, 1.200062007465139, 1.1013719795419428, 1.2500596053106983] \n",
            "\n"
          ],
          "name": "stdout"
        }
      ]
    },
    {
      "cell_type": "code",
      "metadata": {
        "id": "GNSUrJxFy-aS",
        "colab_type": "code",
        "colab": {
          "base_uri": "https://localhost:8080/",
          "height": 35
        },
        "outputId": "19b395f4-b3ae-4ebd-f6b1-31b682003691"
      },
      "source": [
        "purpose = loans['purpose']\n",
        "# print(purpose)\n",
        "j=0\n",
        "index_major=[]\n",
        "for i in purpose:\n",
        "  if i==7:\n",
        "    index_major.append(j)\n",
        "  j=j+1\n",
        "print(len(index_major))\n",
        "\n",
        "for ind in index_major:\n",
        "  loans = loans.drop(ind)\n"
      ],
      "execution_count": 173,
      "outputs": [
        {
          "output_type": "stream",
          "text": [
            "343\n"
          ],
          "name": "stdout"
        }
      ]
    },
    {
      "cell_type": "code",
      "metadata": {
        "id": "Ct1RQAgACELj",
        "colab_type": "code",
        "colab": {
          "base_uri": "https://localhost:8080/",
          "height": 52
        },
        "outputId": "63bde04d-1f79-4ce5-c996-ef723c8647cf"
      },
      "source": [
        "purpose = loans['purpose']\n",
        "# print(purpose)\n",
        "j=0\n",
        "index_major=[]\n",
        "for i in purpose:\n",
        "  if i==6:\n",
        "    index_major.append(j)\n",
        "  j=j+1\n",
        "print(len(index_major))\n",
        "\n",
        "print(loans.shape)"
      ],
      "execution_count": 152,
      "outputs": [
        {
          "output_type": "stream",
          "text": [
            "435\n",
            "(9216, 14)\n"
          ],
          "name": "stdout"
        }
      ]
    },
    {
      "cell_type": "code",
      "metadata": {
        "id": "4Tmi2nHvCGQH",
        "colab_type": "code",
        "colab": {
          "base_uri": "https://localhost:8080/",
          "height": 107
        },
        "outputId": "dc59aa58-fa95-4700-f6fd-5ecbb4b8e69a"
      },
      "source": [
        "loans_x = loans[['purpose','int.rate','installment','log.annual.inc','dti','fico','days.with.cr.line','revol.bal','revol.util','inq.last.6mths','delinq.2yrs','pub.rec','not.fully.paid']]\n",
        "loans_y = loans['credit.policy']\n",
        "\n",
        "lm = linear_model.LogisticRegression()\n",
        "model = lm.fit(loans_x,loans_y)\n",
        "prediction = model.predict(loans_x)\n",
        "\n",
        "print(\"R square for cancer logistic regression model is : \",model.score(loans_x,loans_y),\"\\n\")"
      ],
      "execution_count": 174,
      "outputs": [
        {
          "output_type": "stream",
          "text": [
            "R square for cancer logistic regression model is :  0.9009204114780726 \n",
            "\n"
          ],
          "name": "stdout"
        },
        {
          "output_type": "stream",
          "text": [
            "/usr/local/lib/python3.6/dist-packages/sklearn/linear_model/logistic.py:433: FutureWarning: Default solver will be changed to 'lbfgs' in 0.22. Specify a solver to silence this warning.\n",
            "  FutureWarning)\n"
          ],
          "name": "stderr"
        }
      ]
    },
    {
      "cell_type": "code",
      "metadata": {
        "id": "biM_I09CCoOB",
        "colab_type": "code",
        "colab": {
          "base_uri": "https://localhost:8080/",
          "height": 107
        },
        "outputId": "fb1932de-e8eb-460d-ca50-3c2ebfe62540"
      },
      "source": [
        "loans_x = loans[['purpose','int.rate','installment','log.annual.inc','dti','fico','days.with.cr.line','revol.bal','revol.util','inq.last.6mths','delinq.2yrs','pub.rec','not.fully.paid']]\n",
        "loans_y = loans['credit.policy']\n",
        "\n",
        "lm = linear_model.LogisticRegression()\n",
        "model = lm.fit(loans_x,loans_y)\n",
        "prediction = model.predict(loans_x)\n",
        "\n",
        "print(\"R square for cancer logistic regression model is : \",model.score(loans_x,loans_y),\"\\n\")"
      ],
      "execution_count": 177,
      "outputs": [
        {
          "output_type": "stream",
          "text": [
            "R square for cancer logistic regression model is :  0.9000541418516513 \n",
            "\n"
          ],
          "name": "stdout"
        },
        {
          "output_type": "stream",
          "text": [
            "/usr/local/lib/python3.6/dist-packages/sklearn/linear_model/logistic.py:433: FutureWarning: Default solver will be changed to 'lbfgs' in 0.22. Specify a solver to silence this warning.\n",
            "  FutureWarning)\n"
          ],
          "name": "stderr"
        }
      ]
    },
    {
      "cell_type": "code",
      "metadata": {
        "id": "IPVWnzM70nYN",
        "colab_type": "code",
        "colab": {
          "base_uri": "https://localhost:8080/",
          "height": 473
        },
        "outputId": "8f056440-c5aa-4e46-8edf-9f0b20bb3813"
      },
      "source": [
        "import matplotlib.pyplot as plt; plt.rcdefaults()\n",
        "import matplotlib.pyplot as plt\n",
        "\n",
        "loans= pd.read_csv(\"loans_imputed.csv\")\n",
        "bar_x = loans['fico']\n",
        "bar_y = loans['credit.policy']\n",
        "\n",
        "plt.bar(bar_x,bar_y, align='center', alpha=0.5)\n",
        "plt.xlabel('x_var')\n",
        "plt.ylabel('y_var')\n",
        "plt.title('Bar Chart')\n",
        "plt.show()"
      ],
      "execution_count": 71,
      "outputs": [
        {
          "output_type": "display_data",
          "data": {
            "image/png": "[encoded data removed]",
            "text/plain": [
              "<Figure size 640x480 with 1 Axes>"
            ]
          },
          "metadata": {
            "tags": []
          }
        }
      ]
    },
    {
      "cell_type": "code",
      "metadata": {
        "id": "QF4zoOq14EI9",
        "colab_type": "code",
        "colab": {
          "base_uri": "https://localhost:8080/",
          "height": 473
        },
        "outputId": "671a9dfa-a39a-4b02-bcea-8f2dcb76aae4"
      },
      "source": [
        "plt.scatter(bar_x,bar_y)\n",
        "plt.xlabel('fico')\n",
        "plt.ylabel('y_var')\n",
        "plt.title('Scatter Plot')\n",
        "plt.show()\n"
      ],
      "execution_count": 72,
      "outputs": [
        {
          "output_type": "display_data",
          "data": {
            "image/png": "[encoded data removed]",
            "text/plain": [
              "<Figure size 640x480 with 1 Axes>"
            ]
          },
          "metadata": {
            "tags": []
          }
        }
      ]
    },
    {
      "cell_type": "code",
      "metadata": {
        "id": "fuPM6KrL4Fne",
        "colab_type": "code",
        "colab": {}
      },
      "source": [
        "plt.hist(bar_x,bins=30)\n",
        "plt.show()"
      ],
      "execution_count": 0,
      "outputs": []
    }
  ]
}