{
  "nbformat": 4,
  "nbformat_minor": 0,
  "metadata": {
    "colab": {
      "name": "First Code.ipynb",
      "version": "0.3.2",
      "provenance": [],
      "collapsed_sections": []
    },
    "kernelspec": {
      "name": "python3",
      "display_name": "Python 3"
    }
  },
  "cells": [
    {
      "cell_type": "code",
      "metadata": {
        "id": "HvHHd_7M28OM",
        "colab_type": "code",
        "colab": {
          "base_uri": "https://localhost:8080/",
          "height": 35
        },
        "outputId": "1608be38-80e0-47e2-9ce7-f5ea27cb335d"
      },
      "source": [
        "print(\"Hello World\")"
      ],
      "execution_count": 1,
      "outputs": [
        {
          "output_type": "stream",
          "text": [
            "Hello World\n"
          ],
          "name": "stdout"
        }
      ]
    },
    {
      "cell_type": "code",
      "metadata": {
        "id": "cwcm63Gu6Sp5",
        "colab_type": "code",
        "colab": {
          "base_uri": "https://localhost:8080/",
          "height": 191
        },
        "outputId": "bf5b05a7-cddb-4556-833e-8d32d2917ac4"
      },
      "source": [
        "L1 = [2,4,6,8,10]\n",
        "L2 = [1,3,5,7,9]\n",
        "sumL1 = 0\n",
        "for i in L1:\n",
        "  sumL1 = sumL1 + i\n",
        "print(sumL1)\n",
        "for i in L2:\n",
        "  sumL1 = sumL1 + i\n",
        "print(sumL1)\n",
        "print(L1 + L2)\n",
        "print(L1*2)\n",
        "for i in L1:\n",
        "  print(i*2)\n",
        "type(L1)\n",
        "L1.insert(0,1)\n",
        "print(L1)"
      ],
      "execution_count": 28,
      "outputs": [
        {
          "output_type": "stream",
          "text": [
            "30\n",
            "55\n",
            "[2, 4, 6, 8, 10, 1, 3, 5, 7, 9]\n",
            "[2, 4, 6, 8, 10, 2, 4, 6, 8, 10]\n",
            "4\n",
            "8\n",
            "12\n",
            "16\n",
            "20\n",
            "[1, 2, 4, 6, 8, 10]\n"
          ],
          "name": "stdout"
        }
      ]
    },
    {
      "cell_type": "code",
      "metadata": {
        "id": "ZYwk4HhN_rYr",
        "colab_type": "code",
        "colab": {
          "base_uri": "https://localhost:8080/",
          "height": 139
        },
        "outputId": "cd9e74f0-cae7-4b8c-df77-bc443bcdecbc"
      },
      "source": [
        "angle = list (range(0,360,30))\n",
        "print(angle)\n",
        "angle.append(360)\n",
        "print(angle)\n",
        "angle = list (range(0,361,30))\n",
        "print(angle)\n",
        "print(angle.index(90) , \",\" , angle.index(270))\n",
        "i1=angle.index(90)\n",
        "i2=angle.index(270)\n",
        "l1_rev = len(angle) - i1\n",
        "l2_rev= len(angle) - i2\n",
        "print(l1_rev, \" , \" , l2_rev)\n",
        "subangle = angle[::-1]\n",
        "print(subangle[3:10])\n",
        "\n",
        "angle_1 = list (range(0,361,30))\n",
        "subangle_1 = angle_1[angle_1.index(270):angle_1.index(90)-1:-1]\n",
        "print(subangle_1)      "
      ],
      "execution_count": 84,
      "outputs": [
        {
          "output_type": "stream",
          "text": [
            "[0, 30, 60, 90, 120, 150, 180, 210, 240, 270, 300, 330]\n",
            "[0, 30, 60, 90, 120, 150, 180, 210, 240, 270, 300, 330, 360]\n",
            "[0, 30, 60, 90, 120, 150, 180, 210, 240, 270, 300, 330, 360]\n",
            "3 , 9\n",
            "10  ,  4\n",
            "[270, 240, 210, 180, 150, 120, 90]\n",
            "[270, 240, 210, 180, 150, 120, 90]\n"
          ],
          "name": "stdout"
        }
      ]
    },
    {
      "cell_type": "code",
      "metadata": {
        "id": "cHIEkkiIeAGX",
        "colab_type": "code",
        "colab": {
          "base_uri": "https://localhost:8080/",
          "height": 52
        },
        "outputId": "b4e01f77-2803-421c-9d98-aa3df738ff55"
      },
      "source": [
        "L1 = [1,2,3,4,5]\n",
        "L2=L1\n",
        "L2.remove(3)\n",
        "print(L1)\n",
        "\n",
        "L3=[1,2,3,4,5]\n",
        "L4=L3.copy()\n",
        "L4.remove(3)\n",
        "print(L3)\n",
        "\n",
        "#del(L2[3])\n",
        "#L3=L1[:]"
      ],
      "execution_count": 75,
      "outputs": [
        {
          "output_type": "stream",
          "text": [
            "[1, 2, 4, 5]\n",
            "[1, 2, 3, 4, 5]\n"
          ],
          "name": "stdout"
        }
      ]
    },
    {
      "cell_type": "code",
      "metadata": {
        "id": "kiufRvLjTnpj",
        "colab_type": "code",
        "colab": {
          "base_uri": "https://localhost:8080/",
          "height": 52
        },
        "outputId": "e8bc8647-5c74-4f49-841c-9962e64d74f9"
      },
      "source": [
        "print(\"Hello World \"*5)\n",
        "\n",
        "def printHello(val):\n",
        "   if a>=2:\n",
        "      print(\"Hello\")\n",
        "      \n",
        "printHello(5)"
      ],
      "execution_count": 65,
      "outputs": [
        {
          "output_type": "stream",
          "text": [
            "Hello World Hello World Hello World Hello World Hello World \n",
            "Hello\n"
          ],
          "name": "stdout"
        }
      ]
    },
    {
      "cell_type": "code",
      "metadata": {
        "id": "Sl3oj0m5nbV9",
        "colab_type": "code",
        "colab": {}
      },
      "source": [
        "import numpy as np\n",
        "import tensorflow as tf"
      ],
      "execution_count": 0,
      "outputs": []
    },
    {
      "cell_type": "code",
      "metadata": {
        "id": "vq0s9q3nolqe",
        "colab_type": "code",
        "colab": {
          "base_uri": "https://localhost:8080/",
          "height": 69
        },
        "outputId": "faeeb7c2-8bec-4aff-bce7-0e0adef4a47f"
      },
      "source": [
        "t1 = (1,2,3,4)\n",
        "print(type(t1))\n",
        "t2=(5,6,7,8)\n",
        "t1+t2\n",
        "t1 += t2\n",
        "t1 = t1 + (9,10,)\n",
        "print(t1)\n",
        "t1 = t1[:2] + (15, 20, 25) + t1[2:]\n",
        "print(t1)\n",
        "l1 = list(t1) "
      ],
      "execution_count": 111,
      "outputs": [
        {
          "output_type": "stream",
          "text": [
            "<class 'tuple'>\n",
            "(1, 2, 3, 4, 5, 6, 7, 8, 9, 10)\n",
            "(1, 2, 15, 20, 25, 3, 4, 5, 6, 7, 8, 9, 10)\n"
          ],
          "name": "stdout"
        }
      ]
    },
    {
      "cell_type": "code",
      "metadata": {
        "id": "B9BxWsSNyGGG",
        "colab_type": "code",
        "colab": {
          "base_uri": "https://localhost:8080/",
          "height": 52
        },
        "outputId": "bc270c3b-61db-41aa-9cbc-87c1155fa620"
      },
      "source": [
        "d={\"Assam\":[23,\"as\",34],\"Delhi\":[34,\"de\",35],\"Goa\":[24,\"go\",90]}\n",
        "d1=d[\"Goa\"]\n",
        "print(d1)\n",
        "d[\"Delhi\"]=[36,\"de\",45]\n",
        "d[\"Gujarat\"]=[49,\"Gu\",89]\n",
        "print(d)"
      ],
      "execution_count": 120,
      "outputs": [
        {
          "output_type": "stream",
          "text": [
            "[24, 'go', 90]\n",
            "{'Assam': [23, 'as', 34], 'Delhi': [36, 'de', 45], 'Goa': [24, 'go', 90], 'Gujarat': [49, 'Gu', 89]}\n"
          ],
          "name": "stdout"
        }
      ]
    },
    {
      "cell_type": "code",
      "metadata": {
        "id": "VEvXegze-uPE",
        "colab_type": "code",
        "colab": {
          "base_uri": "https://localhost:8080/",
          "height": 52
        },
        "outputId": "81ada7d6-f5d2-4e4e-eff4-206d42f44c88"
      },
      "source": [
        "def deg_rad(angle):\n",
        "  \n",
        "  return angle * (22/7) * 180\n",
        "\n",
        "print(deg_rad(360))\n",
        "  \n",
        "L1=[30,60,120,180,270,360]\n",
        "\n",
        "new_L1= lambda angle,rotate: angle / 360 * 22/7 + rotate\n",
        "\n",
        "print(new_L1(30,deg_rad(90)))\n"
      ],
      "execution_count": 144,
      "outputs": [
        {
          "output_type": "stream",
          "text": [
            "203657.14285714284\n",
            "50914.54761904762\n"
          ],
          "name": "stdout"
        }
      ]
    }
  ]
}